{
 "cells": [
  {
   "cell_type": "code",
   "execution_count": 1,
   "metadata": {},
   "outputs": [],
   "source": [
    "import cv2\n",
    "import numpy as np\n",
    "import pandas as pd\n",
    "import matplotlib.pyplot as plt\n",
    "import glob\n",
    "import os"
   ]
  },
  {
   "cell_type": "code",
   "execution_count": 54,
   "metadata": {},
   "outputs": [
    {
     "name": "stdout",
     "output_type": "stream",
     "text": [
      "354\n",
      "['color_0_0002.png', 'color_0_0003.png', 'color_0_0004.png', 'color_0_0005.png', 'color_0_0006.png', 'color_0_0007.png', 'color_0_0008.png', 'color_0_0009.png', 'color_0_0010.png', 'color_0_0011.png', 'color_0_0012.png', 'color_0_0013.png', 'color_0_0014.png', 'color_0_0015.png', 'color_0_0016.png', 'color_0_0017.png', 'color_0_0018.png', 'color_0_0019.png', 'color_0_0020.png', 'color_0_0021.png', 'color_0_0022.png', 'color_0_0023.png', 'color_0_0024.png', 'color_0_0025.png', 'color_0_0042.png', 'color_0_0060.png', 'color_0_0077.png', 'color_0_0095.png', 'color_0_0115.png', 'color_0_0132.png', 'color_0_0151.png', 'color_0_0168.png', 'color_0_0186.png', 'color_0_0208.png', 'color_0_0209.png', 'color_0_0210.png', 'color_0_0211.png', 'color_0_0212.png', 'color_0_0213.png', 'color_0_0214.png', 'color_0_0215.png', 'color_0_0216.png', 'color_0_0217.png', 'color_0_0218.png', 'color_0_0219.png', 'color_0_0220.png', 'color_0_0221.png', 'color_0_0222.png', 'color_0_0223.png', 'color_0_0224.png', 'color_0_0225.png', 'color_0_0226.png', 'color_0_0227.png', 'color_0_0228.png', 'color_0_0229.png', 'color_0_0230.png', 'color_0_0231.png', 'color_0_0232.png', 'color_0_0233.png', 'color_0_0234.png', 'color_0_0235.png', 'color_0_0236.png', 'color_0_0237.png', 'color_0_0238.png', 'color_0_0239.png', 'color_0_0240.png', 'color_0_0241.png', 'color_0_0242.png', 'color_0_0243.png', 'color_0_0244.png', 'color_0_0245.png', 'color_0_0246.png', 'color_0_0247.png', 'color_0_0248.png', 'color_0_0249.png', 'color_0_0250.png', 'color_0_0251.png', 'color_0_0252.png', 'color_0_0253.png', 'color_0_0254.png', 'color_0_0255.png', 'color_0_0256.png', 'color_0_0257.png', 'color_0_0258.png', 'color_0_0259.png', 'color_0_0260.png', 'color_0_0261.png', 'color_0_0262.png', 'color_0_0263.png', 'color_0_0264.png', 'color_0_0265.png', 'color_0_0266.png', 'color_0_0267.png', 'color_0_0268.png', 'color_0_0269.png', 'color_0_0270.png', 'color_0_0271.png', 'color_0_0272.png', 'color_0_0273.png', 'color_0_0274.png', 'color_0_0275.png', 'color_0_0276.png', 'color_0_0277.png', 'color_0_0278.png', 'color_0_0279.png', 'color_0_0280.png', 'color_0_0281.png', 'color_0_0282.png', 'color_0_0283.png', 'color_0_0284.png', 'color_0_0285.png', 'color_0_0286.png', 'color_0_0287.png', 'color_0_0288.png', 'color_0_0289.png', 'color_0_0290.png', 'color_0_0291.png', 'color_0_0292.png', 'color_0_0293.png', 'color_0_0294.png', 'color_0_0295.png', 'color_0_0296.png', 'color_0_0297.png', 'color_0_0298.png', 'color_0_0299.png', 'color_0_0300.png', 'color_0_0301.png', 'color_0_0302.png', 'color_0_0303.png', 'color_0_0304.png', 'color_0_0305.png', 'color_0_0306.png', 'color_0_0307.png', 'color_0_0308.png', 'color_0_0309.png', 'color_0_0310.png', 'color_0_0311.png', 'color_0_0312.png', 'color_0_0313.png', 'color_0_0314.png', 'color_0_0315.png', 'color_0_0316.png', 'color_0_0317.png', 'color_0_0318.png', 'color_0_0319.png', 'color_0_0320.png', 'color_0_0321.png', 'color_0_0322.png', 'color_0_0323.png', 'color_0_0324.png', 'color_0_0325.png', 'color_0_0326.png', 'color_0_0327.png', 'color_0_0328.png', 'color_0_0329.png', 'color_0_0330.png', 'color_0_0331.png', 'color_0_0332.png', 'color_0_0333.png', 'color_0_0334.png', 'color_0_0335.png', 'color_0_0336.png', 'color_0_0337.png', 'color_0_0338.png', 'color_0_0339.png', 'color_0_0340.png', 'color_0_0341.png', 'color_0_0342.png', 'color_0_0343.png', 'color_0_0344.png', 'color_0_0345.png', 'color_0_0346.png', 'color_0_0347.png', 'color_0_0348.png', 'color_0_0349.png', 'color_0_0350.png', 'color_0_0351.png', 'color_0_0352.png', 'color_0_0353.png', 'color_0_0354.png', 'color_0_0355.png', 'color_0_0356.png', 'color_0_0357.png', 'color_0_0358.png', 'color_0_0359.png', 'color_0_0360.png', 'color_0_0361.png', 'color_0_0362.png', 'color_0_0363.png', 'color_0_0364.png', 'color_0_0365.png', 'color_0_0366.png', 'color_0_0367.png', 'color_0_0368.png', 'color_0_0369.png', 'color_0_0370.png', 'color_0_0371.png', 'color_0_0372.png', 'color_0_0373.png', 'color_0_0374.png', 'color_0_0375.png', 'color_0_0376.png', 'color_0_0377.png', 'color_0_0378.png', 'color_0_0379.png', 'color_0_0380.png', 'color_0_0381.png', 'color_0_0382.png', 'color_0_0383.png', 'color_0_0384.png', 'color_0_0385.png', 'color_0_0386.png', 'color_0_0387.png', 'color_0_0388.png', 'color_0_0389.png', 'color_0_0390.png', 'color_0_0391.png', 'color_0_0392.png', 'color_0_0393.png', 'color_0_0394.png', 'color_0_0395.png', 'color_0_0396.png', 'color_0_0397.png', 'color_0_0398.png', 'color_0_0399.png', 'color_0_0400.png', 'color_0_0401.png', 'color_0_0402.png', 'color_0_0403.png', 'color_0_0404.png', 'color_0_0405.png', 'color_0_0406.png', 'color_0_0407.png', 'color_0_0408.png', 'color_0_0409.png', 'color_0_0410.png', 'color_0_0411.png', 'color_0_0412.png', 'color_0_0413.png', 'color_0_0414.png', 'color_0_0415.png', 'color_0_0416.png', 'color_0_0417.png', 'color_0_0418.png', 'color_0_0419.png', 'color_0_0420.png', 'color_0_0421.png', 'color_0_0422.png', 'color_0_0423.png', 'color_0_0424.png', 'color_0_0425.png', 'color_0_0426.png', 'color_0_0427.png', 'color_0_0428.png', 'color_0_0429.png', 'color_0_0430.png', 'color_0_0431.png', 'color_0_0432.png', 'color_0_0433.png', 'color_0_0434.png', 'color_0_0435.png', 'color_0_0436.png', 'color_0_0437.png', 'color_0_0438.png', 'color_0_0439.png', 'color_0_0440.png', 'color_0_0441.png', 'color_0_0442.png', 'color_0_0443.png', 'color_0_0444.png', 'color_0_0445.png', 'color_0_0446.png', 'color_0_0447.png', 'color_0_0448.png', 'color_0_0449.png', 'color_0_0450.png', 'color_0_0451.png', 'color_0_0452.png', 'color_0_0453.png', 'color_0_0454.png', 'color_0_0455.png', 'color_0_0456.png', 'color_0_0457.png', 'color_0_0458.png', 'color_0_0459.png', 'color_0_0460.png', 'color_0_0461.png', 'color_0_0462.png', 'color_0_0463.png', 'color_0_0464.png', 'color_0_0465.png', 'color_0_0466.png', 'color_0_0467.png', 'color_0_0468.png', 'color_0_0469.png', 'color_0_0470.png', 'color_0_0471.png', 'color_0_0472.png', 'color_0_0473.png', 'color_0_0474.png', 'color_0_0475.png', 'color_0_0476.png', 'color_0_0477.png', 'color_0_0478.png', 'color_0_0479.png', 'color_0_0480.png', 'color_0_0481.png', 'color_0_0482.png', 'color_0_0483.png', 'color_0_0484.png', 'color_0_0485.png', 'color_0_0486.png', 'color_0_0487.png', 'color_0_0488.png', 'color_0_0489.png', 'color_0_0490.png', 'color_0_0491.png', 'color_0_0492.png', 'color_0_0493.png', 'color_0_0494.png', 'color_0_0495.png', 'color_0_0496.png', 'color_0_0497.png', 'color_0_0498.png', 'color_0_0499.png', 'color_0_0500.png', 'color_0_0501.png', 'color_0_0502.png', 'color_0_0503.png', 'color_0_0504.png', 'color_0_0505.png', 'color_0_0506.png', 'color_0_0507.png', 'color_0_0508.png', 'color_0_0509.png', 'color_0_0510.png', 'color_0_0511.png', 'color_0_0512.png', 'color_0_0513.png', 'color_0_0514.png', 'color_0_0515.png', 'color_0_0516.png', 'color_0_0517.png', 'color_0_0518.png', 'color_0_0519.png', 'color_0_0520.png', 'color_0_0521.png', 'color_0_0522.png', 'color_0_0523.png', 'color_0_0524.png', 'color_0_0525.png', 'color_0_0526.png', 'color_0_0527.png', 'color_0_0528.png']\n"
     ]
    }
   ],
   "source": [
    "FILEDIR = r'C:\\Users\\leohe\\Downloads\\fingerspelling5\\dataset5\\A\\a'\n",
    "filelist= [file for file in os.listdir(FILEDIR) if file.endswith('.png') and file.startswith('color')]\n",
    "print(len(filelist))\n",
    "print(filelist)"
   ]
  },
  {
   "cell_type": "code",
   "execution_count": 61,
   "metadata": {
    "scrolled": false
   },
   "outputs": [
    {
     "name": "stdout",
     "output_type": "stream",
     "text": [
      "color_0_0002.png (119, 106)\n",
      "color_0_0342.png (145, 88)\n",
      "color_0_0353.png (133, 99)\n",
      "color_0_0364.png (132, 111)\n"
     ]
    }
   ],
   "source": [
    "for file in filelist:\n",
    "#     plt.figure(figsize=(10, 5))\n",
    "    img = cv2.imread(file, 0)\n",
    "    try:\n",
    "        print(file, img.shape)\n",
    "    except:\n",
    "        pass\n",
    "#         print(\"error\")\n",
    "#     plt.subplot(1, 3, 1)\n",
    "#     plt.imshow(img, cmap='gray')\n",
    "#     plt.title(\"Shape: {}\".format(img.shape))\n",
    "#     img = cv2.resize(img, (50, 100))\n",
    "#     edges = cv2.Canny(img, 100, 50)\n",
    "#     plt.subplot(1, 3, 2)\n",
    "#     plt.imshow(img, cmap='gray')\n",
    "#     plt.title(\"Shape: {}\".format(img.shape))\n",
    "#     plt.subplot(1, 3, 3)\n",
    "#     plt.imshow(edges, cmap='gray')\n",
    "#     plt.title(\"Shape: {}\".format(edges.shape))\n",
    "#     plt.show()"
   ]
  },
  {
   "cell_type": "code",
   "execution_count": 11,
   "metadata": {},
   "outputs": [
    {
     "name": "stdout",
     "output_type": "stream",
     "text": [
      "dataset5/A/a/color_0_0472.png\n",
      "<TarInfo 'dataset5/A/a/color_0_0472.png' at 0x22d49ba4368>\n"
     ]
    }
   ],
   "source": [
    "import  tarfile\n",
    "with tarfile.open(r'fingerspelling5.tar.bz2') as tar:\n",
    "    for item, data in zip(tar.getnames(), tar.getmembers()):\n",
    "        name = item.split(\"/\")\n",
    "        if len(name) > 3:\n",
    "            if name[2] == 'a' and name[3].startswith('color') and name[3].endswith(\".png\"):\n",
    "                print(item)\n",
    "                print(data)\n",
    "#                 img = cv2.imread(data, 0)\n",
    "#                 plt.imshow(img, cmap='gray')\n",
    "                break"
   ]
  },
  {
   "cell_type": "code",
   "execution_count": null,
   "metadata": {},
   "outputs": [],
   "source": []
  }
 ],
 "metadata": {
  "kernelspec": {
   "display_name": "Python 3",
   "language": "python",
   "name": "python3"
  },
  "language_info": {
   "codemirror_mode": {
    "name": "ipython",
    "version": 3
   },
   "file_extension": ".py",
   "mimetype": "text/x-python",
   "name": "python",
   "nbconvert_exporter": "python",
   "pygments_lexer": "ipython3",
   "version": "3.6.5"
  }
 },
 "nbformat": 4,
 "nbformat_minor": 2
}
