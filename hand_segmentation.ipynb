{
 "cells": [
  {
   "cell_type": "markdown",
   "metadata": {},
   "source": [
    "# Segmentation test"
   ]
  },
  {
   "cell_type": "code",
   "execution_count": 2,
   "metadata": {},
   "outputs": [],
   "source": [
    "import cv2\n",
    "import numpy as np\n",
    "import time\n",
    "from tensorflow.python.keras import Model\n",
    "from tensorflow.python.keras.models import model_from_json\n",
    "from IPython.display import clear_output"
   ]
  },
  {
   "cell_type": "code",
   "execution_count": 3,
   "metadata": {},
   "outputs": [
    {
     "name": "stdout",
     "output_type": "stream",
     "text": [
      "Loaded model from disk\n"
     ]
    }
   ],
   "source": [
    "json_file = open('model.json', 'r')\n",
    "loaded_model_json = json_file.read()\n",
    "json_file.close()\n",
    "loaded_model = model_from_json(loaded_model_json)\n",
    "# load weights into new model\n",
    "loaded_model.load_weights(\"model.h5\")\n",
    "print(\"Loaded model from disk\")"
   ]
  },
  {
   "cell_type": "code",
   "execution_count": 11,
   "metadata": {},
   "outputs": [],
   "source": [
    "LABEL = {'A': 0, 'B': 1, 'C': 2, 'D': 3, 'E': 4, 'F': 5, 'G': 6, 'H': 7, 'I': 8, 'J': 9,\n",
    "         'K':10, 'L':11, 'M':12, 'N':13, 'O':14, 'P':15, 'Q':16, 'R':17, 'S':18, 'T':19,\n",
    "         'U':20, 'V':21, 'W':22, 'X':23, 'Y':24, 'Z':25, \n",
    "         'del':26, 'nothing':27, 'space':28}"
   ]
  },
  {
   "cell_type": "code",
   "execution_count": 5,
   "metadata": {},
   "outputs": [],
   "source": [
    "# Function to find angle between two vectors\n",
    "def Angle(v1, v2):\n",
    "    dot = np.dot(v1, v2)\n",
    "    x_modulus = np.sqrt((v1 * v1).sum())\n",
    "    y_modulus = np.sqrt((v2 * v2).sum())\n",
    "    cos_angle = dot / x_modulus / y_modulus\n",
    "    angle = np.degrees(np.arccos(cos_angle))\n",
    "    return angle\n",
    "\n",
    "# Function to find distance between two points in a list of lists\n",
    "def FindDistance(A, B): \n",
    "    return np.sqrt(np.power((A[0][0] - B[0][0]), 2) + np.power((A[0][1] - B[0][1]), 2)) \n",
    "\n",
    "#Perform morphological transformations to filter out the background noise\n",
    "def clean_background(frame):\n",
    "    #Convert to HSV color space\n",
    "    hsv_frame = cv2.cvtColor(frame,cv2.COLOR_BGR2HSV)\n",
    "    \n",
    "    #Create a binary image with where white will be skin colors and rest is black\n",
    "    mask = cv2.inRange(hsv_frame,np.array([2,50,50]),np.array([15,255,255]))\n",
    "    \n",
    "    #Kernel matrices for morphological transformation    \n",
    "    kernel_square  = np.ones((11,11),np.uint8)\n",
    "    kernel_ellipse = cv2.getStructuringElement(cv2.MORPH_ELLIPSE,(5,5))\n",
    "    \n",
    "    #Dilation increase skin color area\n",
    "    #Erosion increase skin color area\n",
    "    dilation  = cv2.dilate(mask,kernel_ellipse,iterations = 1)\n",
    "    erosion   = cv2.erode(dilation,kernel_square,iterations = 1)    \n",
    "    dilation2 = cv2.dilate(erosion,kernel_ellipse,iterations = 1)    \n",
    "    filtered  = cv2.medianBlur(dilation2,5)\n",
    "    kernel_ellipse = cv2.getStructuringElement(cv2.MORPH_ELLIPSE,(8,8))\n",
    "    dilation2 = cv2.dilate(filtered,kernel_ellipse,iterations = 1)\n",
    "    kernel_ellipse = cv2.getStructuringElement(cv2.MORPH_ELLIPSE,(5,5))\n",
    "    dilation3 = cv2.dilate(filtered,kernel_ellipse,iterations = 1)\n",
    "    median    = cv2.medianBlur(dilation2,5)\n",
    "    return cv2.threshold(median,127,255,0)[1]"
   ]
  },
  {
   "cell_type": "code",
   "execution_count": 51,
   "metadata": {},
   "outputs": [
    {
     "name": "stdout",
     "output_type": "stream",
     "text": [
      "No contour found\n"
     ]
    },
    {
     "data": {
      "text/plain": [
       "-1"
      ]
     },
     "execution_count": 51,
     "metadata": {},
     "output_type": "execute_result"
    }
   ],
   "source": [
    "#Open Camera object\n",
    "cap = cv2.VideoCapture(0)\n",
    "\n",
    "# Decrease frame size\n",
    "# Note this may not work, only depends on camera support\n",
    "# cap.set(cv2.CAP_PROP_FRAME_WIDTH, 200)\n",
    "# cap.set(cv2.CAP_PROP_FRAME_HEIGHT, 200)\n",
    "cap.set(cv2.CAP_PROP_FPS, 5)\n",
    "\n",
    "# # Creating a window for HSV track bars\n",
    "# cv2.namedWindow('HSV_TrackBar')\n",
    "\n",
    "while(True):\n",
    "    start_time = time.time()\n",
    "    \n",
    "    #Capture frame\n",
    "    frame = cap.read()[1]\n",
    "\n",
    "    threshold = clean_background(frame)\n",
    "    \n",
    "    #Find contours of the filtered frame\n",
    "    _, contours, hierarchy = cv2.findContours(threshold, cv2.RETR_TREE, cv2.CHAIN_APPROX_SIMPLE)   \n",
    "    \n",
    "    #Draw Contours\n",
    "#     cv2.drawContours(frame, contours, -1, (122,122,0), 3)\n",
    "    \n",
    "    #Find Max contour area (Assume that hand is in the frame)\n",
    "    max_area = 250\n",
    "    ci = 0\n",
    " \n",
    "    for i, cnt in enumerate(contours):\n",
    "        area = cv2.contourArea(cnt)\n",
    "        if(area > max_area):\n",
    "            max_area = area\n",
    "            ci = i  \n",
    "    \n",
    "    #Largest area contour  \n",
    "    try:\n",
    "        cnts = contours[ci]\n",
    "    except IndexError:\n",
    "        print(\"No contour found\")\n",
    "        break\n",
    "\n",
    "    #Find convex hull\n",
    "    hull = cv2.convexHull(cnts)\n",
    "    \n",
    "    #Find moments of the largest contour\n",
    "    moments = cv2.moments(cnts)\n",
    "    \n",
    "    #Find convex defects\n",
    "#     cv2.drawContours(frame, [hull], -1, (255, 255, 255), 2)\n",
    "    \n",
    "    #Central mass of first order moments\n",
    "    if moments['m00'] != 0:\n",
    "        cx = int(moments['m10'] / moments['m00']) # cx = M10/M00\n",
    "        cy = int(moments['m01'] / moments['m00']) # cy = M01/M00\n",
    "    centerMass=(cx, cy)    \n",
    "    \n",
    "    #Print bounding rectangle\n",
    "    x, y, w, h = cv2.boundingRect(cnts)\n",
    "    img = cv2.rectangle(frame, (x, y), (x + w, y + h), (0, 255, 0), 2)\n",
    "\n",
    "    box = img[y:y+h, x:x+w]\n",
    "    box = cv2.cvtColor(box, cv2.COLOR_BGR2GRAY)\n",
    "#     print(box.shape)\n",
    "    box = cv2.resize(box, (200, 200), interpolation=cv2.INTER_CUBIC) \n",
    "    cv2.imshow('Box', box)\n",
    "    # Show final image\n",
    "    pred = np.empty((1, 200, 200))\n",
    "    pred[0] = box\n",
    "    probabilities = loaded_model.predict(pred / np.max(pred))\n",
    "    predictions = np.argmax(probabilities, axis=-1)\n",
    "    letter = list(LABEL.keys())[predictions[0]]\n",
    "    cv2.putText(frame, letter, (0, 25), cv2.FONT_HERSHEY_SIMPLEX, 1, (0,0,255), 2)     \n",
    "    cv2.imshow('Dilation', frame)\n",
    "    \n",
    "    #Print execution time\n",
    "#     print(\"execution time per frame:\\t{:.2f} [ms]\".format((time.time()-start_time) * 1000))\n",
    "    \n",
    "    #close the output video by pressing 'q'\n",
    "    if cv2.waitKey(1) & 0xFF == ord('q'):\n",
    "        break\n",
    "        \n",
    "cap.release()\n",
    "cv2.destroyAllWindows()\n",
    "cv2.waitKey(1)"
   ]
  },
  {
   "cell_type": "code",
   "execution_count": 39,
   "metadata": {},
   "outputs": [
    {
     "data": {
      "text/plain": [
       "-1"
      ]
     },
     "execution_count": 39,
     "metadata": {},
     "output_type": "execute_result"
    }
   ],
   "source": [
    "cap.release()\n",
    "cv2.destroyAllWindows()\n",
    "cv2.waitKey(1)"
   ]
  },
  {
   "cell_type": "code",
   "execution_count": null,
   "metadata": {},
   "outputs": [],
   "source": []
  }
 ],
 "metadata": {
  "kernelspec": {
   "display_name": "Python 3",
   "language": "python",
   "name": "python3"
  },
  "language_info": {
   "codemirror_mode": {
    "name": "ipython",
    "version": 3
   },
   "file_extension": ".py",
   "mimetype": "text/x-python",
   "name": "python",
   "nbconvert_exporter": "python",
   "pygments_lexer": "ipython3",
   "version": "3.6.5"
  },
  "varInspector": {
   "cols": {
    "lenName": 16,
    "lenType": 16,
    "lenVar": 40
   },
   "kernels_config": {
    "python": {
     "delete_cmd_postfix": "",
     "delete_cmd_prefix": "del ",
     "library": "var_list.py",
     "varRefreshCmd": "print(var_dic_list())"
    },
    "r": {
     "delete_cmd_postfix": ") ",
     "delete_cmd_prefix": "rm(",
     "library": "var_list.r",
     "varRefreshCmd": "cat(var_dic_list()) "
    }
   },
   "types_to_exclude": [
    "module",
    "function",
    "builtin_function_or_method",
    "instance",
    "_Feature"
   ],
   "window_display": false
  }
 },
 "nbformat": 4,
 "nbformat_minor": 2
}
